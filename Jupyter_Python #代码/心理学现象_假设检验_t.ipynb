{
 "cells": [
  {
   "cell_type": "markdown",
   "metadata": {},
   "source": [
    "### 统计学：检验心理学现象\n",
    "\n",
    "背景信息\n",
    "\n",
    "在一个Stroop （斯特鲁普）任务中，参与者得到了一列文字，每个文字都用一种油墨颜色展示。参与者的任务是将文字的打印颜色大声说出来。这项任务有两个条件：一致文字条件，和不一致文字条件。在一致文字条件中，显示的文字是与它们的打印颜色匹配的颜色词，如“红色”、“蓝色”。在不一致文字条件中，显示的文字是与它们的打印颜色不匹配的颜色词，如“紫色”、“橙色”。在每个情况中，我们将计量说出同等大小的列表中的墨色名称的时间。每位参与者必须全部完成并记录每种条件下使用的时间。\n",
    "\n"
   ]
  },
  {
   "cell_type": "markdown",
   "metadata": {},
   "source": [
    "自变量：文字条件是否一致；\n",
    "\n",
    "因变量：同一个参与者说出同等大小的列表中的墨色名称的时间"
   ]
  },
  {
   "cell_type": "markdown",
   "metadata": {},
   "source": [
    "### 提出假设"
   ]
  },
  {
   "cell_type": "markdown",
   "metadata": {},
   "source": [
    "### H0:  u1 = u2 ;    H1:  u1 != u2； \n",
    "H0为原假设，H1为对立假设，u表示总体均值，u1为文字条件一致的对照组总体均值，u2为文字条件不一致的实验组总体均值\n",
    "#### H0：在文字条件不一致的情况下，实验参与者的平均完成时间和文字条件一致时的平均完成时间没有差异；\n",
    "#### H1：在文字条件不一致的情况下，实验参与者的平均完成时间和文字条件一致时的平均完成时间具有明显差异\n",
    "\n",
    "执行双尾配对T检验（two tails dependent t test for paired）。\n",
    "\n",
    "- 首先这是一个抽样实验，实验对象是抽样得到的样本而不是总体；\n",
    "- 其次这个实验是针对同一个参与者设计的，是一种重复测量实验，适合使用配对T检验；\n",
    "- 最后实验组的预期结果不是单调的，所以采取双尾度量值。"
   ]
  },
  {
   "cell_type": "code",
   "execution_count": 2,
   "metadata": {},
   "outputs": [],
   "source": [
    "# 导入模块\n",
    "import numpy as np\n",
    "import pandas as pd\n",
    "import scipy.stats as stats\n",
    "import matplotlib.pyplot as plt\n",
    "from math import sqrt"
   ]
  },
  {
   "cell_type": "code",
   "execution_count": 5,
   "metadata": {},
   "outputs": [],
   "source": [
    "# 载入数据\n",
    "df = pd.read_csv('stroopdata.csv')"
   ]
  },
  {
   "cell_type": "code",
   "execution_count": 24,
   "metadata": {},
   "outputs": [
    {
     "name": "stdout",
     "output_type": "stream",
     "text": [
      "<class 'pandas.core.frame.DataFrame'>\n",
      "RangeIndex: 24 entries, 0 to 23\n",
      "Data columns (total 3 columns):\n",
      "Congruent      24 non-null float64\n",
      "Incongruent    24 non-null float64\n",
      "D              24 non-null float64\n",
      "dtypes: float64(3)\n",
      "memory usage: 656.0 bytes\n"
     ]
    }
   ],
   "source": [
    "# 查看数据‘干净’情况\n",
    "df.info()"
   ]
  },
  {
   "cell_type": "code",
   "execution_count": 23,
   "metadata": {},
   "outputs": [
    {
     "data": {
      "text/html": [
       "<div>\n",
       "<style>\n",
       "    .dataframe thead tr:only-child th {\n",
       "        text-align: right;\n",
       "    }\n",
       "\n",
       "    .dataframe thead th {\n",
       "        text-align: left;\n",
       "    }\n",
       "\n",
       "    .dataframe tbody tr th {\n",
       "        vertical-align: top;\n",
       "    }\n",
       "</style>\n",
       "<table border=\"1\" class=\"dataframe\">\n",
       "  <thead>\n",
       "    <tr style=\"text-align: right;\">\n",
       "      <th></th>\n",
       "      <th>Congruent</th>\n",
       "      <th>Incongruent</th>\n",
       "      <th>D</th>\n",
       "    </tr>\n",
       "  </thead>\n",
       "  <tbody>\n",
       "    <tr>\n",
       "      <th>count</th>\n",
       "      <td>24.000000</td>\n",
       "      <td>24.000000</td>\n",
       "      <td>24.000000</td>\n",
       "    </tr>\n",
       "    <tr>\n",
       "      <th>mean</th>\n",
       "      <td>14.051125</td>\n",
       "      <td>22.015917</td>\n",
       "      <td>7.964792</td>\n",
       "    </tr>\n",
       "    <tr>\n",
       "      <th>std</th>\n",
       "      <td>3.559358</td>\n",
       "      <td>4.797057</td>\n",
       "      <td>4.864827</td>\n",
       "    </tr>\n",
       "    <tr>\n",
       "      <th>min</th>\n",
       "      <td>8.630000</td>\n",
       "      <td>15.687000</td>\n",
       "      <td>1.950000</td>\n",
       "    </tr>\n",
       "    <tr>\n",
       "      <th>25%</th>\n",
       "      <td>11.895250</td>\n",
       "      <td>18.716750</td>\n",
       "      <td>3.645500</td>\n",
       "    </tr>\n",
       "    <tr>\n",
       "      <th>50%</th>\n",
       "      <td>14.356500</td>\n",
       "      <td>21.017500</td>\n",
       "      <td>7.666500</td>\n",
       "    </tr>\n",
       "    <tr>\n",
       "      <th>75%</th>\n",
       "      <td>16.200750</td>\n",
       "      <td>24.051500</td>\n",
       "      <td>10.258500</td>\n",
       "    </tr>\n",
       "    <tr>\n",
       "      <th>max</th>\n",
       "      <td>22.328000</td>\n",
       "      <td>35.255000</td>\n",
       "      <td>21.919000</td>\n",
       "    </tr>\n",
       "  </tbody>\n",
       "</table>\n",
       "</div>"
      ],
      "text/plain": [
       "       Congruent  Incongruent          D\n",
       "count  24.000000    24.000000  24.000000\n",
       "mean   14.051125    22.015917   7.964792\n",
       "std     3.559358     4.797057   4.864827\n",
       "min     8.630000    15.687000   1.950000\n",
       "25%    11.895250    18.716750   3.645500\n",
       "50%    14.356500    21.017500   7.666500\n",
       "75%    16.200750    24.051500  10.258500\n",
       "max    22.328000    35.255000  21.919000"
      ]
     },
     "execution_count": 23,
     "metadata": {},
     "output_type": "execute_result"
    }
   ],
   "source": [
    "# 获取描述性统计数值\n",
    "df.describe()"
   ]
  },
  {
   "cell_type": "code",
   "execution_count": 11,
   "metadata": {},
   "outputs": [
    {
     "name": "stdout",
     "output_type": "stream",
     "text": [
      "MEAN:7.964791666666667 STD:4.864826910359056 d:1.6372199491222625\n"
     ]
    }
   ],
   "source": [
    "# 生成组间差异列，并计算描述性数值\n",
    "df['D'] = df['Incongruent'] - df['Congruent']\n",
    "print('MEAN:' + str(df['D'].mean()),\n",
    "      'STD:' + str(df['D'].std()),\n",
    "      'd:' + str(df['D'].mean()/df['D'].std()))"
   ]
  },
  {
   "cell_type": "markdown",
   "metadata": {},
   "source": [
    "### 字母和颜色一致的对照组实验数据为：\n",
    "- 均值：14.05\n",
    "- 标准差：3.56\n",
    "\n",
    "### 字母和颜色不一致的实验组实验数据为：\n",
    "- 均值：22.02\n",
    "- 标准差：4.80\n",
    "\n",
    "### 实验组和对照组的均值差异：\n",
    "- 均值：7.96\n",
    "- 标准差：4.86\n",
    "- d值：1.64"
   ]
  },
  {
   "cell_type": "code",
   "execution_count": 21,
   "metadata": {},
   "outputs": [
    {
     "data": {
      "image/png": "[encoded data removed]",
      "text/plain": [
       "<matplotlib.figure.Figure at 0x7f3edb80f048>"
      ]
     },
     "metadata": {},
     "output_type": "display_data"
    }
   ],
   "source": [
    "df[['Congruent','Incongruent']].plot(kind='bar' , figsize = (12,8) , title='Difference between group');  #绘图，查看两组差异"
   ]
  },
  {
   "cell_type": "markdown",
   "metadata": {},
   "source": [
    "所有参与者在实验组的完成时间都比对照组大！！！\n",
    "\n",
    "实验组和对照组的差异很可能具有较高显著性"
   ]
  },
  {
   "cell_type": "markdown",
   "metadata": {},
   "source": [
    "设定显著性水平α=0.05\n",
    "\n",
    "实验参与者的样本数量为24，设定自由度为23\n",
    "\n",
    "进行推断性统计分析"
   ]
  },
  {
   "cell_type": "code",
   "execution_count": 15,
   "metadata": {},
   "outputs": [
    {
     "name": "stdout",
     "output_type": "stream",
     "text": [
      "1.7138715277470478 6.262868163282547 9.666715170050786\n"
     ]
    }
   ],
   "source": [
    "t_margin = stats.t.isf(0.05,df = 23) #计算t临界值，设置显著性水平参数为0.05，自由度为23\n",
    "moe = (df['D'].std()/sqrt(24)) * t #margin of error 计算误差范围\n",
    "print(t_margin,df['D'].mean()-moe,df['D'].mean()+moe) #输出均值差异的置信区间"
   ]
  },
  {
   "cell_type": "markdown",
   "metadata": {},
   "source": [
    "t值在α=0.05,df=23,双尾条件下的临界值为1.71   \n",
    "\n",
    "实验组和对照组均值差异的置信区间为 95%CI=(6.26,9.67)"
   ]
  },
  {
   "cell_type": "code",
   "execution_count": 23,
   "metadata": {},
   "outputs": [
    {
     "name": "stdout",
     "output_type": "stream",
     "text": [
      "Ttest_relResult(statistic=8.020706944109957, pvalue=4.103000585711178e-08)\n"
     ]
    }
   ],
   "source": [
    "stats.ttest_rel(df['Incongruent'],df['Congruent']) #输出T检验结果\n",
    "t = stats.ttest_rel(df['Incongruent'],df['Congruent'])[0] #输出t值\n",
    "print(stats.ttest_rel(df['Incongruent'],df['Congruent']))"
   ]
  },
  {
   "cell_type": "code",
   "execution_count": 17,
   "metadata": {},
   "outputs": [
    {
     "name": "stdout",
     "output_type": "stream",
     "text": [
      "0.736636416144506\n"
     ]
    }
   ],
   "source": [
    "print((t*t)/(t*t+23)) #输出r^2=(t^2)/(t^2+df)"
   ]
  },
  {
   "cell_type": "markdown",
   "metadata": {},
   "source": [
    "# 结论\n",
    "\n",
    "\n",
    "#### 描述性数据结论\n",
    " - 实验组的完成时间均值为22.02，标准差为4.80\n",
    " - 对照组的完成时间均值为14.05，标准差为3.56\n",
    " - 两组完成时间的均值差异均值为7.96，标准差为4.86\n",
    "\n",
    "\n",
    "#### 推断性数据结论\n",
    " - H0原假设被推翻，实验组和对照组存在明显差异\n",
    " - t(23)=8.02, p<0.01（α=0.05）, 双尾\n",
    " - 95%CI of D=(6.26,9.67) #两组实验数据均值差异的95%置信区间\n",
    "\n",
    "\n",
    "\n",
    "\n",
    "#### 效应量度量\n",
    " - d of D=1.64 #D表示组间均值差异\n",
    " - r^2=0.74\n",
    "\n",
    "两组数据均值差异较大，决定系数为0.74，实验组和对照组的数据解释程度较高\n",
    "\n",
    "### 综上所述\n",
    "实验组和对照组存在明显差异（α=0.05），文字条件不一致会明显增加实验参与者的完成时间。\n",
    "\n",
    "### 提出假设\n",
    "人用来处理文字和颜色的大脑功能是独立的，当两者处理结果相悖时，大脑需要额外时间来进行高阶判断\n",
    "\n",
    "下一步可以进行对照实验，更改实验规则为：参与者需要说出文字的内容，而非颜色；检验颜色是否会干扰参与者对文字的判断"
   ]
  }
 ],
 "metadata": {
  "anaconda-cloud": {},
  "kernelspec": {
   "display_name": "Python 3",
   "language": "python",
   "name": "python3"
  },
  "language_info": {
   "codemirror_mode": {
    "name": "ipython",
    "version": 3
   },
   "file_extension": ".py",
   "mimetype": "text/x-python",
   "name": "python",
   "nbconvert_exporter": "python",
   "pygments_lexer": "ipython3",
   "version": "3.7.0"
  }
 },
 "nbformat": 4,
 "nbformat_minor": 2
}
